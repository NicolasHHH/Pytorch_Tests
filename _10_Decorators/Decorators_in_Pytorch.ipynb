{
 "cells": [
  {
   "cell_type": "markdown",
   "source": [
    "# Pytorch 中的 décorator\n"
   ],
   "metadata": {
    "collapsed": false
   }
  },
  {
   "cell_type": "markdown",
   "source": [
    "## 注册 registry\n",
    "注册器管理共享相似功能的不同模块， 比如说目标检测中的backbones, head, and necks，许多深度学习的工程使用注册管理数据集和模型模块， 比如说\n",
    "MMDetection, detectron2,detection.pytorch,ProjectAo,MMDetection3D, MMClassification, MMEditing, 等等"
   ],
   "metadata": {
    "collapsed": false
   }
  },
  {
   "cell_type": "markdown",
   "source": [
    "### 什么是注册\n",
    "注册器可以看作是完成了**string类型->类名**的一个映射。单个注册器包含的这些类通常具有相似的API，但是实现不同的算法。比如说目标检测中的主干网络。\n",
    "使用注册器，用户可以通过其对应的字符串查找和实例化该类，并根据需要使用实例化的模块。\n"
   ],
   "metadata": {
    "collapsed": false
   }
  },
  {
   "cell_type": "code",
   "execution_count": null,
   "outputs": [],
   "source": [
    "# Copyright (c) Facebook, Inc. and its affiliates. All Rights Reserved\n",
    "class Registry(object):\n",
    "    \"\"\"Registry Class to map modules.\n",
    "\n",
    "    The registry that provides name -> object mapping, to support third-party users' custom modules.\n",
    "\n",
    "    To create a registry (inside detectron2):\n",
    "\n",
    "        BACKBONE_REGISTRY = Registry('BACKBONE')\n",
    "\n",
    "    To register an object:\n",
    "\n",
    "        @BACKBONE_REGISTRY.register()\n",
    "        class MyBackbone():\n",
    "            ...\n",
    "\n",
    "        Or:\n",
    "\n",
    "        BACKBONE_REGISTRY.register(MyBackbone)\n",
    "    \"\"\"\n",
    "\n",
    "    def __init__(self, name):\n",
    "        \"\"\"\n",
    "            name (str): the name of this registry\n",
    "        \"\"\"\n",
    "        self._name = name\n",
    "\n",
    "        self._obj_map = {}\n",
    "\n",
    "    def _do_register(self, name, obj):\n",
    "        upper_name = name.upper()\n",
    "        assert (\n",
    "            upper_name not in self._obj_map\n",
    "        ), \"An object named '{}' was already registered in '{}' registry!\".format(upper_name, self._name)\n",
    "        self._obj_map[upper_name] = obj\n",
    "\n",
    "    def register(self, module_name=None, obj=None):\n",
    "        \"\"\"Register the given object under the name `obj.__name__`.\n",
    "        Can be used as either a decorator or not. See docstring of this class for usage.\n",
    "\n",
    "        Args:\n",
    "            module_name (str, optional): name of module. Defaults to None.\n",
    "            obj (obj, optional): the object to register. Defaults to None.\n",
    "        \"\"\"\n",
    "        if obj is None:\n",
    "            # used as a decorator\n",
    "            def deco(func_or_class):\n",
    "                name = module_name if module_name is not None else func_or_class.__name__\n",
    "                self._do_register(name, func_or_class)\n",
    "                return func_or_class\n",
    "\n",
    "            return deco\n",
    "\n",
    "        # used as a function call\n",
    "        name = module_name if module_name is not None else obj.__name__\n",
    "        self._do_register(name, obj)\n",
    "\n",
    "    def get(self, name):\n",
    "        \"\"\"Get object with name.\n",
    "\n",
    "        Args:\n",
    "            name (str): registered object name.\n",
    "\n",
    "        Returns:\n",
    "            obj: The object.\n",
    "        \"\"\"\n",
    "        ret = self._obj_map.get(name.upper())\n",
    "        if ret is None:\n",
    "            raise KeyError(\"No object named '{}' found in '{}' registry[{}]!\".format(\n",
    "                name.upper(), self._name, self._obj_map.keys()))\n",
    "        return ret\n",
    "\n",
    "    def __getitem__(self, name):\n",
    "        \"\"\"Get object with name.\n",
    "\n",
    "        Args:\n",
    "            name (str): registered object name.\n",
    "\n",
    "        Returns:\n",
    "            obj: The object.\n",
    "        \"\"\"\n",
    "        return self.get(name)\n",
    "\n",
    "    def __str__(self):\n",
    "        \"\"\"Format to string representation.\"\"\"\n",
    "        s = self._name + ':'\n",
    "        s += str(self._obj_map)\n",
    "        return s\n",
    "\n",
    "BACKBONES = Registry('BACKBONES')\n",
    "\n",
    "\n",
    "@BACKBONES.register('resnet18')\n",
    "class resnet18():\n",
    "    def __init__(self):\n",
    "        pass\n",
    "# @BACKBONES.register('resnet18') 相当于执行语句resnet18 = BACKBONES.register('resnet18')(resnet18)\n",
    "\n",
    "@BACKBONES.register('resnet34')\n",
    "class resnet34():\n",
    "    def __init__(self):\n",
    "        pass\n",
    "# @BACKBONES.register('resnet34') 相当于执行语句resnet34 = BACKBONES.register('resnet34')(resnet34)\n",
    "\n",
    "@BACKBONES.register('resnet50')\n",
    "class resnet50():\n",
    "    def __init__(self):\n",
    "        pass\n",
    "# @BACKBONES.register('resnet50') 相当于执行语句resnet50 = BACKBONES.register('resnet50')(resnet50)\n",
    "\n",
    "def make_backbone(name):\n",
    "    return BACKBONES.get(name)()\n",
    "\n",
    "\n",
    "resnet = make_backbone('resnet18')\n"
   ],
   "metadata": {
    "collapsed": false
   }
  }
 ],
 "metadata": {
  "kernelspec": {
   "display_name": "Python 3",
   "language": "python",
   "name": "python3"
  },
  "language_info": {
   "codemirror_mode": {
    "name": "ipython",
    "version": 2
   },
   "file_extension": ".py",
   "mimetype": "text/x-python",
   "name": "python",
   "nbconvert_exporter": "python",
   "pygments_lexer": "ipython2",
   "version": "2.7.6"
  }
 },
 "nbformat": 4,
 "nbformat_minor": 0
}
