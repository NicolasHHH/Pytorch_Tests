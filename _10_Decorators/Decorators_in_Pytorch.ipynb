{
 "cells": [
  {
   "cell_type": "markdown",
   "source": [
    "# Pytorch 中的 décorator\n"
   ],
   "metadata": {
    "collapsed": false
   }
  },
  {
   "cell_type": "markdown",
   "source": [
    "## 注册 registry\n",
    "注册器管理共享相似功能的不同模块， 比如说目标检测中的backbones, head, and necks，许多深度学习的工程使用注册管理数据集和模型模块， 比如说\n",
    "MMDetection, detectron2,detection.pytorch,ProjectAo,MMDetection3D, MMClassification, MMEditing, 等等"
   ],
   "metadata": {
    "collapsed": false
   }
  },
  {
   "cell_type": "markdown",
   "source": [
    "### 什么是注册\n",
    "注册器可以看作是完成了**string类型->类名**的一个映射。单个注册器包含的这些类通常具有相似的API，但是实现不同的算法。比如说目标检测中的主干网络。\n",
    "使用注册器，用户可以通过其对应的字符串查找和实例化该类，并根据需要使用实例化的模块。\n"
   ],
   "metadata": {
    "collapsed": false
   }
  },
  {
   "cell_type": "code",
   "execution_count": null,
   "outputs": [],
   "source": [
    "# Copyright (c) Facebook, Inc. and its affiliates. All Rights Reserved\n",
    "class Registry(object):\n",
    "    \"\"\"Registry Class to map modules.\n",
    "    The registry that provides name -> object mapping, to support third-party users' custom modules.\n",
    "\n",
    "    To create a registry (inside detectron2):\n",
    "        BACKBONE_REGISTRY = Registry('BACKBONE')\n",
    "\n",
    "    To register an object:\n",
    "\n",
    "        @BACKBONE_REGISTRY.register()\n",
    "        class MyBackbone():\n",
    "            ...\n",
    "\n",
    "        Or:\n",
    "\n",
    "        BACKBONE_REGISTRY.register(MyBackbone)\n",
    "    \"\"\"\n",
    "\n",
    "    def __init__(self, name):\n",
    "        \"\"\"\n",
    "            name (str): the name of this registry\n",
    "        \"\"\"\n",
    "        self._name = name\n",
    "\n",
    "        self._obj_map = {}\n",
    "\n",
    "    def _do_register(self, name, obj):\n",
    "        upper_name = name.upper()\n",
    "        assert (\n",
    "            upper_name not in self._obj_map\n",
    "        ), \"An object named '{}' was already registered in '{}' registry!\".format(upper_name, self._name)\n",
    "        self._obj_map[upper_name] = obj\n",
    "\n",
    "    def register(self, module_name=None, obj=None):\n",
    "        \"\"\"Register the given object under the name `obj.__name__`.\n",
    "        Can be used as either a decorator or not. See docstring of this class for usage.\n",
    "\n",
    "        Args:\n",
    "            module_name (str, optional): name of module. Defaults to None.\n",
    "            obj (obj, optional): the object to register. Defaults to None.\n",
    "        \"\"\"\n",
    "        if obj is None:\n",
    "            # used as a decorator\n",
    "            def deco(func_or_class):\n",
    "                name = module_name if module_name is not None else func_or_class.__name__\n",
    "                self._do_register(name, func_or_class)\n",
    "                return func_or_class\n",
    "\n",
    "            return deco\n",
    "\n",
    "        # used as a function call\n",
    "        name = module_name if module_name is not None else obj.__name__\n",
    "        self._do_register(name, obj)\n",
    "\n",
    "    def get(self, name):\n",
    "        \"\"\"Get object with name.\n",
    "\n",
    "        Args:\n",
    "            name (str): registered object name.\n",
    "\n",
    "        Returns:\n",
    "            obj: The object.\n",
    "        \"\"\"\n",
    "        ret = self._obj_map.get(name.upper())\n",
    "        if ret is None:\n",
    "            raise KeyError(\"No object named '{}' found in '{}' registry[{}]!\".format(\n",
    "                name.upper(), self._name, self._obj_map.keys()))\n",
    "        return ret\n",
    "\n",
    "    def __getitem__(self, name):\n",
    "        \"\"\"Get object with name.\n",
    "\n",
    "        Args:\n",
    "            name (str): registered object name.\n",
    "\n",
    "        Returns:\n",
    "            obj: The object.\n",
    "        \"\"\"\n",
    "        return self.get(name)\n",
    "\n",
    "    def __str__(self):\n",
    "        \"\"\"Format to string representation.\"\"\"\n",
    "        s = self._name + ':'\n",
    "        s += str(self._obj_map)\n",
    "        return s\n",
    "\n",
    "BACKBONES = Registry('BACKBONES')\n",
    "\n",
    "\n",
    "@BACKBONES.register('resnet18')\n",
    "class resnet18():\n",
    "    def __init__(self):\n",
    "        pass\n",
    "# @BACKBONES.register('resnet18') 相当于执行语句resnet18 = BACKBONES.register('resnet18')(resnet18)\n",
    "\n",
    "@BACKBONES.register('resnet34')\n",
    "class resnet34():\n",
    "    def __init__(self):\n",
    "        pass\n",
    "# @BACKBONES.register('resnet34') 相当于执行语句resnet34 = BACKBONES.register('resnet34')(resnet34)\n",
    "\n",
    "@BACKBONES.register('resnet50')\n",
    "class resnet50():\n",
    "    def __init__(self):\n",
    "        pass\n",
    "# @BACKBONES.register('resnet50') 相当于执行语句resnet50 = BACKBONES.register('resnet50')(resnet50)\n",
    "\n",
    "def make_backbone(name):\n",
    "    return BACKBONES.get(name)()\n",
    "\n",
    "\n",
    "resnet = make_backbone('resnet18')\n"
   ],
   "metadata": {
    "collapsed": false
   }
  },
  {
   "cell_type": "markdown",
   "source": [
    "## Register"
   ],
   "metadata": {
    "collapsed": false
   }
  },
  {
   "cell_type": "code",
   "execution_count": null,
   "outputs": [],
   "source": [
    "import logging\n",
    "\n",
    "class Register:\n",
    "\n",
    "    def __init__(self, registry_name):\n",
    "        self._dict = {}\n",
    "        self._name = registry_name\n",
    "\n",
    "    def __setitem__(self, key, value):\n",
    "        if not callable(value):\n",
    "            raise Exception(f\"Value of a Registry must be a callable!\\nValue: {value}\")\n",
    "        if key is None:\n",
    "            key = value.__name__\n",
    "        if key in self._dict:\n",
    "            logging.warning(\"Key %s already in registry %s.\" % (key, self._name))\n",
    "        self._dict[key] = value\n",
    "\n",
    "    def register(self, target):\n",
    "        \"\"\"Decorator to register a function or class.\"\"\"\n",
    "\n",
    "        def add(key, value):\n",
    "            self[key] = value\n",
    "            return value\n",
    "\n",
    "        if callable(target): # functions and classes are all callable\n",
    "            # @reg.register\n",
    "            return add(None, target)\n",
    "        # @reg.register('alias')\n",
    "        return lambda x: add(target, x) # target is a string\n",
    "\n",
    "    def __getitem__(self, key):\n",
    "        return self._dict[key]\n",
    "\n",
    "    def __contains__(self, key):\n",
    "        return key in self._dict\n",
    "\n",
    "    def keys(self):\n",
    "        return self._dict.keys()\n"
   ],
   "metadata": {
    "collapsed": false
   }
  },
  {
   "cell_type": "markdown",
   "source": [
    "## 实际案例\n",
    "在DeiT 代码中, 注册器如下"
   ],
   "metadata": {
    "collapsed": false
   }
  },
  {
   "cell_type": "code",
   "execution_count": null,
   "outputs": [],
   "source": [
    "_module_to_models = defaultdict(set)  # dict of sets to check membership of model in module\n",
    "_model_to_module = {}  # mapping of model names to module names\n",
    "_model_entrypoints = {}  # mapping of model names to entrypoint fns\n",
    "_model_has_pretrained = set()  # set of model names that have pretrained weight url present\n",
    "\n",
    "\n",
    "def register_model(fn):\n",
    "    # lookup containing module\n",
    "    mod = sys.modules[fn.__module__]\n",
    "    module_name_split = fn.__module__.split('.')\n",
    "    module_name = module_name_split[-1] if len(module_name_split) else ''\n",
    "\n",
    "    # add model to __all__ in module\n",
    "    model_name = fn.__name__\n",
    "    if hasattr(mod, '__all__'):\n",
    "        mod.__all__.append(model_name)\n",
    "    else:\n",
    "        mod.__all__ = [model_name]\n",
    "\n",
    "    # add entries to registry dict/sets\n",
    "    _model_entrypoints[model_name] = fn\n",
    "    _model_to_module[model_name] = module_name\n",
    "    _module_to_models[module_name].add(model_name)\n",
    "    has_pretrained = False  # check if model has a pretrained url to allow filtering on this\n",
    "    if hasattr(mod, 'default_cfgs') and model_name in mod.default_cfgs:\n",
    "        # this will catch all models that have entrypoint matching cfg key, but miss any aliasing\n",
    "        # entrypoints or non-matching combos\n",
    "        has_pretrained = 'url' in mod.default_cfgs[model_name] and 'http' in mod.default_cfgs[model_name]['url']\n",
    "    if has_pretrained:\n",
    "        _model_has_pretrained.add(model_name)\n",
    "    return fn"
   ],
   "metadata": {
    "collapsed": false
   }
  },
  {
   "cell_type": "code",
   "execution_count": null,
   "outputs": [],
   "source": [
    "@register_model\n",
    "def deit_tiny_patch16_224(pretrained=False, **kwargs):\n",
    "    model = VisionTransformer(\n",
    "        patch_size=16, embed_dim=192, depth=12, num_heads=3, mlp_ratio=4, qkv_bias=True,\n",
    "        norm_layer=partial(nn.LayerNorm, eps=1e-6), **kwargs)\n",
    "    model.default_cfg = _cfg()\n",
    "    if pretrained:\n",
    "        checkpoint = torch.hub.load_state_dict_from_url(\n",
    "            url=\"https://dl.fbaipublicfiles.com/deit/deit_tiny_patch16_224-a1311bcf.pth\",\n",
    "            map_location=\"cpu\", check_hash=True\n",
    "        )\n",
    "        model.load_state_dict(checkpoint[\"model\"])\n",
    "    return model"
   ],
   "metadata": {
    "collapsed": false,
    "pycharm": {
     "is_executing": true
    }
   }
  },
  {
   "cell_type": "markdown",
   "source": [
    "自定义新模型"
   ],
   "metadata": {
    "collapsed": false
   }
  },
  {
   "cell_type": "code",
   "execution_count": null,
   "outputs": [],
   "source": [
    "@register_model\n",
    "def deit_small_patch16_224(pretrained=False, **kwargs):\n",
    "    model = VisionTransformer(\n",
    "        patch_size=16, embed_dim=384, depth=12, num_heads=6, mlp_ratio=4, qkv_bias=True,\n",
    "        norm_layer=partial(nn.LayerNorm, eps=1e-6), **kwargs)\n",
    "    model.default_cfg = _cfg()\n",
    "    if pretrained:\n",
    "        checkpoint = torch.hub.load_state_dict_from_url(\n",
    "            url=\"https://dl.fbaipublicfiles.com/deit/deit_small_patch16_224-cd65a155.pth\",\n",
    "            map_location=\"cpu\", check_hash=True\n",
    "        )\n",
    "        model.load_state_dict(checkpoint[\"model\"])\n",
    "    return model\n"
   ],
   "metadata": {
    "collapsed": false
   }
  }
 ],
 "metadata": {
  "kernelspec": {
   "display_name": "Python 3",
   "language": "python",
   "name": "python3"
  },
  "language_info": {
   "codemirror_mode": {
    "name": "ipython",
    "version": 2
   },
   "file_extension": ".py",
   "mimetype": "text/x-python",
   "name": "python",
   "nbconvert_exporter": "python",
   "pygments_lexer": "ipython2",
   "version": "2.7.6"
  }
 },
 "nbformat": 4,
 "nbformat_minor": 0
}
