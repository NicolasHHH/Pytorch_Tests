{
 "cells": [
  {
   "cell_type": "code",
   "execution_count": 2,
   "metadata": {
    "collapsed": true
   },
   "outputs": [],
   "source": [
    "import torch\n",
    "import torch.nn as nn"
   ]
  },
  {
   "cell_type": "code",
   "execution_count": 34,
   "outputs": [
    {
     "data": {
      "text/plain": "tensor([[[[ 0.1051, -0.6054,  2.2077,  0.5354, -0.0786],\n          [ 1.3807, -1.1156,  0.8601, -1.0424, -0.8200],\n          [-3.1862, -1.2547,  0.0289,  0.0565,  0.2643],\n          [-0.5624, -0.6070, -0.1709, -1.2398, -0.1952],\n          [ 1.8700,  0.4523,  0.4213,  0.3290,  1.1165]],\n\n         [[-1.8195,  2.0410,  0.9786,  0.2387,  0.4347],\n          [-0.2031,  1.6943,  2.3971,  1.0378, -1.3072],\n          [-0.4515,  1.6716, -2.5988, -1.0309,  1.1623],\n          [ 0.4303, -0.4173, -0.3568, -0.4327, -1.5390],\n          [ 0.8908, -0.4774,  0.5983, -0.4060,  0.4000]]],\n\n\n        [[[ 1.5962, -0.8092, -0.6239,  1.1259,  0.2702],\n          [ 1.8706,  0.4997,  0.0581, -0.5668,  0.7331],\n          [-0.3854,  2.4003, -0.2957, -1.2770,  0.5103],\n          [-0.2095, -0.5492,  1.1720, -1.4889,  2.2958],\n          [-0.3748,  0.8563,  0.8263,  0.5494,  0.0653]],\n\n         [[ 0.0499,  0.9159, -0.3219, -0.1797,  0.4378],\n          [-0.5280,  0.7332,  0.3471, -0.9778, -1.8930],\n          [ 0.9208,  0.2874, -0.8615, -1.0993, -0.2581],\n          [ 1.8214, -0.0588,  0.0831, -0.9225, -0.1735],\n          [-0.5248, -0.5065,  0.4221,  0.1290, -0.0644]]],\n\n\n        [[[-0.9354, -1.5206, -0.5608, -0.7810,  0.3087],\n          [ 0.4900,  0.0654,  1.7122, -0.4635,  1.6018],\n          [-0.7469,  0.1544, -1.3912, -0.8685, -0.7750],\n          [-0.0213,  0.2040,  0.8807, -0.4863, -0.1786],\n          [-0.0894,  1.2568, -0.9148,  0.1818,  0.3267]],\n\n         [[ 0.0630,  0.3169,  0.3407, -0.4869, -0.1557],\n          [ 1.4273, -0.4321, -1.4824,  0.2975,  0.6057],\n          [ 1.2967,  0.1246, -0.0489,  0.3899,  0.1573],\n          [ 0.2230,  0.0935,  1.7616,  1.9213, -0.7279],\n          [-2.6322, -0.0475, -0.5790,  0.4873, -1.3225]]]])"
     },
     "execution_count": 34,
     "metadata": {},
     "output_type": "execute_result"
    }
   ],
   "source": [
    "x = torch.randn(3,2,5,5)\n",
    "x"
   ],
   "metadata": {
    "collapsed": false
   }
  },
  {
   "cell_type": "code",
   "execution_count": 36,
   "outputs": [
    {
     "data": {
      "text/plain": "tensor([[[[ 4.5405e-02, -6.5842e-01,  2.1280e+00,  4.7161e-01, -1.3659e-01],\n          [ 1.3089e+00, -1.1638e+00,  7.9322e-01, -1.0912e+00, -8.7098e-01],\n          [-3.2148e+00, -1.3016e+00, -3.0113e-02, -2.7728e-03,  2.0310e-01],\n          [-6.1581e-01, -6.6001e-01, -2.2805e-01, -1.2868e+00, -2.5212e-01],\n          [ 1.7935e+00,  3.8927e-01,  3.5856e-01,  2.6712e-01,  1.0472e+00]],\n\n         [[-1.8457e+00,  2.0053e+00,  9.4556e-01,  2.0742e-01,  4.0299e-01],\n          [-2.3329e-01,  1.6595e+00,  2.3605e+00,  1.0046e+00, -1.3346e+00],\n          [-4.8102e-01,  1.6369e+00, -2.6231e+00, -1.0590e+00,  1.1288e+00],\n          [ 3.9858e-01, -4.4690e-01, -3.8660e-01, -4.6225e-01, -1.5659e+00],\n          [ 8.5797e-01, -5.0693e-01,  5.6620e-01, -4.3564e-01,  3.6835e-01]]],\n\n\n        [[[ 1.5224e+00, -8.6029e-01, -6.7676e-01,  1.0565e+00,  2.0892e-01],\n          [ 1.7942e+00,  4.3625e-01, -1.2221e-03, -6.2016e-01,  6.6742e-01],\n          [-4.4046e-01,  2.3188e+00, -3.5164e-01, -1.3236e+00,  4.4673e-01],\n          [-2.6631e-01, -6.0279e-01,  1.1022e+00, -1.5335e+00,  2.2153e+00],\n          [-4.3002e-01,  7.8941e-01,  7.5974e-01,  4.8547e-01,  5.8903e-03]],\n\n         [[ 1.9097e-02,  8.8297e-01, -3.5172e-01, -2.0990e-01,  4.0609e-01],\n          [-5.5740e-01,  7.0079e-01,  3.1564e-01, -1.0061e+00, -1.9191e+00],\n          [ 8.8785e-01,  2.5609e-01, -8.8999e-01, -1.1272e+00, -2.8811e-01],\n          [ 1.7863e+00, -8.9276e-02,  5.2275e-02, -9.5093e-01, -2.0375e-01],\n          [-5.5413e-01, -5.3588e-01,  3.9038e-01,  9.8003e-02, -9.4850e-02]]],\n\n\n        [[[-9.8532e-01, -1.5650e+00, -6.1423e-01, -8.3236e-01,  2.4703e-01],\n          [ 4.2657e-01,  6.0840e-03,  1.6373e+00, -5.1788e-01,  1.5278e+00],\n          [-7.9858e-01,  9.4207e-02, -1.4368e+00, -9.1904e-01, -8.2638e-01],\n          [-7.9815e-02,  1.4331e-01,  8.1361e-01, -5.4040e-01, -2.3562e-01],\n          [-1.4726e-01,  1.1861e+00, -9.6484e-01,  1.2133e-01,  2.6487e-01]],\n\n         [[ 3.2172e-02,  2.8552e-01,  3.0925e-01, -5.1632e-01, -1.8600e-01],\n          [ 1.3932e+00, -4.6173e-01, -1.5094e+00,  2.6610e-01,  5.7353e-01],\n          [ 1.2628e+00,  9.3601e-02, -7.9439e-02,  3.5829e-01,  1.2628e-01],\n          [ 1.9182e-01,  6.2665e-02,  1.7266e+00,  1.8860e+00, -7.5679e-01],\n          [-2.6564e+00, -7.7988e-02, -6.0827e-01,  4.5542e-01, -1.3499e+00]]]],\n       grad_fn=<NativeBatchNormBackward0>)"
     },
     "execution_count": 36,
     "metadata": {},
     "output_type": "execute_result"
    }
   ],
   "source": [
    "BN = nn.BatchNorm2d(2)\n",
    "BN(x)"
   ],
   "metadata": {
    "collapsed": false
   }
  },
  {
   "cell_type": "code",
   "execution_count": 37,
   "outputs": [
    {
     "data": {
      "text/plain": "tensor([[[[0.0593]],\n\n         [[0.0307]]]])"
     },
     "execution_count": 37,
     "metadata": {},
     "output_type": "execute_result"
    }
   ],
   "source": [
    "\n",
    "mean = x.mean(dim=(0, 2, 3), keepdim=True)\n",
    "mean"
   ],
   "metadata": {
    "collapsed": false
   }
  },
  {
   "cell_type": "code",
   "execution_count": 38,
   "outputs": [],
   "source": [
    "import torch\n",
    "from torch import nn\n",
    "def batch_norm(X, gamma, beta, moving_mean, moving_var, eps, momentum):\n",
    "    # 通过is_grad_enabled来判断当前模式是训练模式还是预测模式\n",
    "    if not torch.is_grad_enabled():\n",
    "        # 如果是在预测模式下，直接使用传入的移动平均所得的均值和方差\n",
    "        X_hat = (X - moving_mean) / torch.sqrt(moving_var + eps)\n",
    "    else:\n",
    "        assert len(X.shape) in (2, 4)\n",
    "        if len(X.shape) == 2:\n",
    "            # 使用全连接层的情况，计算特征维上的均值和方差\n",
    "            mean = X.mean(dim=0)\n",
    "            var = ((X - mean) ** 2).mean(dim=0)\n",
    "        else:\n",
    "            # 使用二维卷积层的情况，计算通道维上（axis=1）的均值和方差。\n",
    "            # 这里我们需要保持X的形状以便后面可以做广播运算\n",
    "            mean = X.mean(dim=(0, 2, 3), keepdim=True)\n",
    "            var = ((X - mean) ** 2).mean(dim=(0, 2, 3), keepdim=True)\n",
    "        # 训练模式下，用当前的均值和方差做标准化\n",
    "        X_hat = (X - mean) / torch.sqrt(var + eps)\n",
    "        # 更新移动平均的均值和方差\n",
    "        moving_mean = momentum * moving_mean + (1.0 - momentum) * mean\n",
    "        moving_var = momentum * moving_var + (1.0 - momentum) * var\n",
    "    Y = gamma * X_hat + beta  # 缩放和移位\n",
    "    return Y, moving_mean.data, moving_var.data\n"
   ],
   "metadata": {
    "collapsed": false
   }
  },
  {
   "cell_type": "code",
   "execution_count": null,
   "outputs": [],
   "source": [
    "class BatchNorm(nn.Module):\n",
    "    # num_features：完全连接层的输出数量或卷积层的输出通道数。\n",
    "    # num_dims：2表示完全连接层，4表示卷积层\n",
    "    def __init__(self, num_features, num_dims):\n",
    "        super().__init__()\n",
    "        if num_dims == 2:\n",
    "            shape = (1, num_features)\n",
    "        else:\n",
    "            shape = (1, num_features, 1, 1)\n",
    "        # 参与求梯度和迭代的拉伸和偏移参数，分别初始化成1和0\n",
    "        self.gamma = nn.Parameter(torch.ones(shape))\n",
    "        self.beta = nn.Parameter(torch.zeros(shape))\n",
    "        # 非模型参数的变量初始化为0和1\n",
    "        self.moving_mean = torch.zeros(shape)\n",
    "        self.moving_var = torch.ones(shape)\n",
    "\n",
    "    def forward(self, X):\n",
    "        # 如果X不在内存上，将moving_mean和moving_var\n",
    "        # 复制到X所在显存上\n",
    "        if self.moving_mean.device != X.device:\n",
    "            self.moving_mean = self.moving_mean.to(X.device)\n",
    "            self.moving_var = self.moving_var.to(X.device)\n",
    "        # 保存更新过的moving_mean和moving_var\n",
    "        Y, self.moving_mean, self.moving_var = batch_norm(\n",
    "            X, self.gamma, self.beta, self.moving_mean,\n",
    "            self.moving_var, eps=1e-5, momentum=0.9)\n",
    "        return Y\n"
   ],
   "metadata": {
    "collapsed": false
   }
  },
  {
   "cell_type": "code",
   "execution_count": null,
   "outputs": [],
   "source": [],
   "metadata": {
    "collapsed": false
   }
  }
 ],
 "metadata": {
  "kernelspec": {
   "display_name": "Python 3",
   "language": "python",
   "name": "python3"
  },
  "language_info": {
   "codemirror_mode": {
    "name": "ipython",
    "version": 2
   },
   "file_extension": ".py",
   "mimetype": "text/x-python",
   "name": "python",
   "nbconvert_exporter": "python",
   "pygments_lexer": "ipython2",
   "version": "2.7.6"
  }
 },
 "nbformat": 4,
 "nbformat_minor": 0
}
