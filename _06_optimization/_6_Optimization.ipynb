{
 "cells": [
  {
   "cell_type": "code",
   "execution_count": 2,
   "metadata": {
    "collapsed": true
   },
   "outputs": [],
   "source": [
    "import torch\n",
    "from torch import nn\n",
    "from torch.utils.data import DataLoader\n",
    "from torchvision import datasets\n",
    "from torchvision.transforms import ToTensor, Lambda\n",
    "\n",
    "training_data = datasets.FashionMNIST(\n",
    "    root=\"../_2_Dataloaders/data\",\n",
    "    train=True,\n",
    "    download=False,\n",
    "    transform=ToTensor()\n",
    ")\n",
    "\n",
    "test_data = datasets.FashionMNIST(\n",
    "    root=\"../_2_Dataloaders/data\",\n",
    "    train=False,\n",
    "    download=False,\n",
    "    transform=ToTensor()\n",
    ")\n",
    "\n",
    "train_dataloader = DataLoader(training_data, batch_size=64)\n",
    "test_dataloader = DataLoader(test_data, batch_size=64)\n",
    "\n",
    "class NeuralNetwork(nn.Module):\n",
    "    def __init__(self):\n",
    "        super(NeuralNetwork, self).__init__()\n",
    "        self.flatten = nn.Flatten()\n",
    "        self.linear_relu_stack = nn.Sequential(\n",
    "            nn.Linear(28*28, 512),\n",
    "            nn.ReLU(),\n",
    "            nn.Linear(512, 512),\n",
    "            nn.ReLU(),\n",
    "            nn.Linear(512, 10),\n",
    "        )\n",
    "\n",
    "    def forward(self, x):\n",
    "        x = self.flatten(x)\n",
    "        logits = self.linear_relu_stack(x)\n",
    "        return logits\n",
    "\n",
    "model = NeuralNetwork()"
   ]
  },
  {
   "cell_type": "code",
   "execution_count": 3,
   "outputs": [],
   "source": [
    "# Hyperparams\n",
    "learning_rate = 1e-3\n",
    "batch_size = 64\n",
    "epochs = 5\n"
   ],
   "metadata": {
    "collapsed": false,
    "pycharm": {
     "name": "#%%\n"
    }
   }
  },
  {
   "cell_type": "markdown",
   "source": [
    "## Loss Functions\n",
    "Common loss functions include nn.MSELoss (Mean Square Error) for regression tasks, and nn.NLLLoss (Negative Log Likelihood) for classification. nn.CrossEntropyLoss combines nn.LogSoftmax and nn.NLLLoss."
   ],
   "metadata": {
    "collapsed": false,
    "pycharm": {
     "name": "#%% md\n"
    }
   }
  },
  {
   "cell_type": "code",
   "execution_count": 5,
   "outputs": [],
   "source": [
    "# Initialize the loss function\n",
    "loss_fn = nn.CrossEntropyLoss()"
   ],
   "metadata": {
    "collapsed": false,
    "pycharm": {
     "name": "#%%\n"
    }
   }
  },
  {
   "cell_type": "markdown",
   "source": [
    "## Optimizer\n",
    "\n",
    "Optimization algorithms define how this process is performed (in this example we use Stochastic Gradient Descent). All optimization logic is encapsulated in the optimizer object. Here, we use the SGD optimizer; additionally, there are many different optimizers available in PyTorch such as ADAM and RMSProp, that work better for different kinds of models and data.\n"
   ],
   "metadata": {
    "collapsed": false,
    "pycharm": {
     "name": "#%% md\n"
    }
   }
  },
  {
   "cell_type": "code",
   "execution_count": 7,
   "outputs": [],
   "source": [
    "optimizer = torch.optim.SGD(model.parameters(), lr=learning_rate)\n"
   ],
   "metadata": {
    "collapsed": false,
    "pycharm": {
     "name": "#%%\n"
    }
   }
  },
  {
   "cell_type": "markdown",
   "source": [
    "Inside the training loop, optimization happens in three steps:\n",
    "- Call optimizer.zero_grad() to reset the gradients of model parameters. Gradients by default add up; to prevent double-counting, we explicitly zero them at each iteration.\n",
    "- Backpropagate the prediction loss with a call to loss.backward(). PyTorch deposits the gradients of the loss w.r.t. each parameter.\n",
    "- Once we have our gradients, we call optimizer.step() to adjust the parameters by the gradients collected in the backward pass.\n"
   ],
   "metadata": {
    "collapsed": false,
    "pycharm": {
     "name": "#%% md\n"
    }
   }
  },
  {
   "cell_type": "code",
   "execution_count": 8,
   "outputs": [],
   "source": [
    "def train_loop(dataloader, model, loss_fn, optimizer):\n",
    "    size = len(dataloader.dataset)\n",
    "    for batch, (X, y) in enumerate(dataloader):\n",
    "        # Compute prediction and loss\n",
    "        pred = model(X)\n",
    "        loss = loss_fn(pred, y)\n",
    "\n",
    "        # Backpropagation\n",
    "        optimizer.zero_grad()\n",
    "        loss.backward()\n",
    "        optimizer.step()\n",
    "\n",
    "        if batch % 100 == 0:\n",
    "            loss, current = loss.item(), batch * len(X)\n",
    "            print(f\"loss: {loss:>7f}  [{current:>5d}/{size:>5d}]\")\n",
    "\n",
    "\n",
    "def test_loop(dataloader, model, loss_fn):\n",
    "    size = len(dataloader.dataset)\n",
    "    num_batches = len(dataloader)\n",
    "    test_loss, correct = 0, 0\n",
    "\n",
    "    with torch.no_grad():\n",
    "        for X, y in dataloader:\n",
    "            pred = model(X)\n",
    "            test_loss += loss_fn(pred, y).item()\n",
    "            correct += (pred.argmax(1) == y).type(torch.float).sum().item()\n",
    "\n",
    "    test_loss /= num_batches\n",
    "    correct /= size\n",
    "    print(f\"Test Error: \\n Accuracy: {(100*correct):>0.1f}%, Avg loss: {test_loss:>8f} \\n\")\n"
   ],
   "metadata": {
    "collapsed": false,
    "pycharm": {
     "name": "#%%\n"
    }
   }
  },
  {
   "cell_type": "code",
   "execution_count": 10,
   "outputs": [
    {
     "name": "stdout",
     "output_type": "stream",
     "text": [
      "Epoch 1\n",
      "-------------------------------\n",
      "loss: 0.810287  [    0/60000]\n",
      "loss: 0.514623  [ 6400/60000]\n",
      "loss: 0.375864  [12800/60000]\n",
      "loss: 0.467215  [19200/60000]\n",
      "loss: 0.454233  [25600/60000]\n",
      "loss: 0.426725  [32000/60000]\n",
      "loss: 0.364825  [38400/60000]\n",
      "loss: 0.516272  [44800/60000]\n",
      "loss: 0.507141  [51200/60000]\n",
      "loss: 0.508909  [57600/60000]\n",
      "Test Error: \n",
      " Accuracy: 84.3%, Avg loss: 0.427187 \n",
      "\n",
      "Epoch 2\n",
      "-------------------------------\n",
      "loss: 0.279351  [    0/60000]\n",
      "loss: 0.344674  [ 6400/60000]\n",
      "loss: 0.283610  [12800/60000]\n",
      "loss: 0.364113  [19200/60000]\n",
      "loss: 0.434584  [25600/60000]\n",
      "loss: 0.380145  [32000/60000]\n",
      "loss: 0.320069  [38400/60000]\n",
      "loss: 0.457701  [44800/60000]\n",
      "loss: 0.406640  [51200/60000]\n",
      "loss: 0.425888  [57600/60000]\n",
      "Test Error: \n",
      " Accuracy: 85.3%, Avg loss: 0.393441 \n",
      "\n",
      "Epoch 3\n",
      "-------------------------------\n",
      "loss: 0.214624  [    0/60000]\n",
      "loss: 0.317735  [ 6400/60000]\n",
      "loss: 0.234433  [12800/60000]\n",
      "loss: 0.306157  [19200/60000]\n",
      "loss: 0.374307  [25600/60000]\n",
      "loss: 0.328682  [32000/60000]\n",
      "loss: 0.279468  [38400/60000]\n",
      "loss: 0.387594  [44800/60000]\n",
      "loss: 0.362687  [51200/60000]\n",
      "loss: 0.426396  [57600/60000]\n",
      "Test Error: \n",
      " Accuracy: 86.6%, Avg loss: 0.361055 \n",
      "\n",
      "Epoch 4\n",
      "-------------------------------\n",
      "loss: 0.184536  [    0/60000]\n",
      "loss: 0.278786  [ 6400/60000]\n",
      "loss: 0.241279  [12800/60000]\n",
      "loss: 0.267878  [19200/60000]\n",
      "loss: 0.350932  [25600/60000]\n",
      "loss: 0.325839  [32000/60000]\n",
      "loss: 0.233917  [38400/60000]\n",
      "loss: 0.362521  [44800/60000]\n",
      "loss: 0.310196  [51200/60000]\n",
      "loss: 0.344592  [57600/60000]\n",
      "Test Error: \n",
      " Accuracy: 86.8%, Avg loss: 0.366270 \n",
      "\n",
      "Epoch 5\n",
      "-------------------------------\n",
      "loss: 0.179906  [    0/60000]\n",
      "loss: 0.259907  [ 6400/60000]\n",
      "loss: 0.228321  [12800/60000]\n",
      "loss: 0.213837  [19200/60000]\n",
      "loss: 0.335632  [25600/60000]\n",
      "loss: 0.331775  [32000/60000]\n",
      "loss: 0.222687  [38400/60000]\n",
      "loss: 0.371156  [44800/60000]\n",
      "loss: 0.320600  [51200/60000]\n",
      "loss: 0.338621  [57600/60000]\n",
      "Test Error: \n",
      " Accuracy: 87.6%, Avg loss: 0.342922 \n",
      "\n",
      "Epoch 6\n",
      "-------------------------------\n",
      "loss: 0.163702  [    0/60000]\n",
      "loss: 0.246931  [ 6400/60000]\n",
      "loss: 0.223858  [12800/60000]\n",
      "loss: 0.218730  [19200/60000]\n",
      "loss: 0.296502  [25600/60000]\n",
      "loss: 0.279833  [32000/60000]\n",
      "loss: 0.195244  [38400/60000]\n",
      "loss: 0.341198  [44800/60000]\n",
      "loss: 0.260929  [51200/60000]\n",
      "loss: 0.304534  [57600/60000]\n",
      "Test Error: \n",
      " Accuracy: 87.4%, Avg loss: 0.359893 \n",
      "\n",
      "Epoch 7\n",
      "-------------------------------\n",
      "loss: 0.160065  [    0/60000]\n",
      "loss: 0.221474  [ 6400/60000]\n",
      "loss: 0.234325  [12800/60000]\n",
      "loss: 0.203770  [19200/60000]\n",
      "loss: 0.296343  [25600/60000]\n",
      "loss: 0.239057  [32000/60000]\n",
      "loss: 0.226865  [38400/60000]\n",
      "loss: 0.355089  [44800/60000]\n",
      "loss: 0.236223  [51200/60000]\n",
      "loss: 0.325887  [57600/60000]\n",
      "Test Error: \n",
      " Accuracy: 88.0%, Avg loss: 0.348876 \n",
      "\n",
      "Epoch 8\n",
      "-------------------------------\n",
      "loss: 0.140832  [    0/60000]\n",
      "loss: 0.197777  [ 6400/60000]\n",
      "loss: 0.218763  [12800/60000]\n",
      "loss: 0.198530  [19200/60000]\n",
      "loss: 0.242117  [25600/60000]\n",
      "loss: 0.224251  [32000/60000]\n",
      "loss: 0.180693  [38400/60000]\n",
      "loss: 0.323388  [44800/60000]\n",
      "loss: 0.212669  [51200/60000]\n",
      "loss: 0.306576  [57600/60000]\n",
      "Test Error: \n",
      " Accuracy: 88.1%, Avg loss: 0.356112 \n",
      "\n",
      "Epoch 9\n",
      "-------------------------------\n",
      "loss: 0.143550  [    0/60000]\n",
      "loss: 0.205086  [ 6400/60000]\n",
      "loss: 0.213307  [12800/60000]\n",
      "loss: 0.226542  [19200/60000]\n",
      "loss: 0.258191  [25600/60000]\n",
      "loss: 0.240544  [32000/60000]\n",
      "loss: 0.164839  [38400/60000]\n",
      "loss: 0.292383  [44800/60000]\n",
      "loss: 0.220331  [51200/60000]\n",
      "loss: 0.294604  [57600/60000]\n",
      "Test Error: \n",
      " Accuracy: 88.2%, Avg loss: 0.358831 \n",
      "\n",
      "Epoch 10\n",
      "-------------------------------\n",
      "loss: 0.135867  [    0/60000]\n",
      "loss: 0.169923  [ 6400/60000]\n",
      "loss: 0.195578  [12800/60000]\n",
      "loss: 0.185223  [19200/60000]\n",
      "loss: 0.223207  [25600/60000]\n",
      "loss: 0.211859  [32000/60000]\n",
      "loss: 0.144626  [38400/60000]\n",
      "loss: 0.320325  [44800/60000]\n",
      "loss: 0.174438  [51200/60000]\n",
      "loss: 0.249772  [57600/60000]\n",
      "Test Error: \n",
      " Accuracy: 88.2%, Avg loss: 0.366203 \n",
      "\n",
      "Done!\n"
     ]
    }
   ],
   "source": [
    "loss_fn = nn.CrossEntropyLoss()\n",
    "optimizer = torch.optim.Adam(model.parameters(), lr=learning_rate)\n",
    "\n",
    "epochs = 10\n",
    "for t in range(epochs):\n",
    "    print(f\"Epoch {t+1}\\n-------------------------------\")\n",
    "    train_loop(train_dataloader, model, loss_fn, optimizer)\n",
    "    test_loop(test_dataloader, model, loss_fn)\n",
    "print(\"Done!\")\n"
   ],
   "metadata": {
    "collapsed": false,
    "pycharm": {
     "name": "#%%\n"
    }
   }
  },
  {
   "cell_type": "code",
   "execution_count": null,
   "outputs": [],
   "source": [],
   "metadata": {
    "collapsed": false,
    "pycharm": {
     "name": "#%%\n"
    }
   }
  }
 ],
 "metadata": {
  "kernelspec": {
   "display_name": "Python 3",
   "language": "python",
   "name": "python3"
  },
  "language_info": {
   "codemirror_mode": {
    "name": "ipython",
    "version": 2
   },
   "file_extension": ".py",
   "mimetype": "text/x-python",
   "name": "python",
   "nbconvert_exporter": "python",
   "pygments_lexer": "ipython2",
   "version": "2.7.6"
  }
 },
 "nbformat": 4,
 "nbformat_minor": 0
}