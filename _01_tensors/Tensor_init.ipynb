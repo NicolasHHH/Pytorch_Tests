{
 "cells": [
  {
   "cell_type": "code",
   "execution_count": 1,
   "metadata": {
    "collapsed": true
   },
   "outputs": [],
   "source": [
    "import torch\n",
    "import numpy as np\n",
    "\n",
    "# https://pytorch.org/tutorials/beginner/basics/tensorqs_tutorial.html"
   ]
  },
  {
   "cell_type": "code",
   "execution_count": 2,
   "outputs": [
    {
     "name": "stdout",
     "output_type": "stream",
     "text": [
      "Shape of tensor: torch.Size([3, 4])\n",
      "Datatype of tensor: torch.float32\n",
      "Device tensor is stored on: cpu\n"
     ]
    }
   ],
   "source": [
    "tensor = torch.rand(3,4)\n",
    "\n",
    "print(f\"Shape of tensor: {tensor.shape}\")\n",
    "print(f\"Datatype of tensor: {tensor.dtype}\")\n",
    "print(f\"Device tensor is stored on: {tensor.device}\")"
   ],
   "metadata": {
    "collapsed": false,
    "pycharm": {
     "name": "#%%\n"
    }
   }
  },
  {
   "cell_type": "code",
   "execution_count": 4,
   "outputs": [
    {
     "name": "stdout",
     "output_type": "stream",
     "text": [
      "tensor([[0.2254, 0.4938, 0.4818, 0.7312],\n",
      "        [0.3369, 0.5657, 0.1022, 0.8031],\n",
      "        [0.8363, 0.8942, 0.2580, 0.3718]])\n",
      "First row: tensor([0.2254, 0.4938, 0.4818, 0.7312])\n",
      "First column: tensor([0.2254, 0.3369, 0.8363])\n",
      "Last column: tensor([0.7312, 0.8031, 0.3718])\n"
     ]
    }
   ],
   "source": [
    "# indexing and slicing\n",
    "print(tensor)\n",
    "print(f\"First row: {tensor[0]}\")\n",
    "print(f\"First column: {tensor[:, 0]}\")\n",
    "print(f\"Last column: {tensor[..., -1]}\")\n"
   ],
   "metadata": {
    "collapsed": false,
    "pycharm": {
     "name": "#%%\n"
    }
   }
  },
  {
   "cell_type": "code",
   "execution_count": 11,
   "outputs": [
    {
     "name": "stdout",
     "output_type": "stream",
     "text": [
      "tensor([[0.2254, 0.4938, 0.4818, 0.7312],\n",
      "        [0.3369, 0.5657, 0.1022, 0.8031],\n",
      "        [0.8363, 0.8942, 0.2580, 0.3718],\n",
      "        [0.2254, 0.4938, 0.4818, 0.7312],\n",
      "        [0.3369, 0.5657, 0.1022, 0.8031],\n",
      "        [0.8363, 0.8942, 0.2580, 0.3718]])\n",
      "tensor([[0.2254, 0.4938, 0.4818, 0.7312, 0.2254, 0.4938, 0.4818, 0.7312],\n",
      "        [0.3369, 0.5657, 0.1022, 0.8031, 0.3369, 0.5657, 0.1022, 0.8031],\n",
      "        [0.8363, 0.8942, 0.2580, 0.3718, 0.8363, 0.8942, 0.2580, 0.3718]])\n"
     ]
    }
   ],
   "source": [
    "t1 = torch.cat([tensor,tensor],dim = 1)\n",
    "t0 = torch.cat([tensor,tensor],dim = 0)\n",
    "print(t0)\n",
    "print(t1)"
   ],
   "metadata": {
    "collapsed": false,
    "pycharm": {
     "name": "#%%\n"
    }
   }
  },
  {
   "cell_type": "markdown",
   "source": [
    "## arithmetic operations"
   ],
   "metadata": {
    "collapsed": false,
    "pycharm": {
     "name": "#%% md\n"
    }
   }
  },
  {
   "cell_type": "code",
   "execution_count": 30,
   "outputs": [
    {
     "name": "stdout",
     "output_type": "stream",
     "text": [
      "y1  tensor([[ 5., 11.],\n",
      "        [11., 25.]], dtype=torch.float64)\n",
      "y2  tensor([[ 5., 11.],\n",
      "        [11., 25.]], dtype=torch.float64)\n",
      "y3  tensor([[ 5., 11.],\n",
      "        [11., 25.]], dtype=torch.float64)\n",
      "z1  tensor([[ 1.,  4.],\n",
      "        [ 9., 16.]], dtype=torch.float64)\n",
      "z2  tensor([[ 1.,  4.],\n",
      "        [ 9., 16.]], dtype=torch.float64)\n",
      "z3  tensor([[ 1.,  4.],\n",
      "        [ 9., 16.]], dtype=torch.float64)\n"
     ]
    }
   ],
   "source": [
    "# This computes the matrix multiplication between two tensors. y1, y2, y3 will have the same value\n",
    "a = [1,2,3,4]\n",
    "tensor = torch.tensor(a,dtype=float)\n",
    "tensor = tensor.view(2,2)\n",
    "\n",
    "y1 = tensor @ tensor.T\n",
    "y2 = tensor.matmul(tensor.T)\n",
    "\n",
    "y3 = torch.rand_like(tensor)\n",
    "torch.matmul(tensor, tensor.T, out=y3)\n",
    "print(\"y1 \",y1)\n",
    "print(\"y2 \",y2)\n",
    "print(\"y3 \",y3)\n",
    "\n",
    "# This computes the element-wise product. z1, z2, z3 will have the same value\n",
    "z1 = tensor * tensor\n",
    "z2 = tensor.mul(tensor)\n",
    "\n",
    "z3 = torch.rand_like(tensor)\n",
    "torch.mul(tensor, tensor, out=z3)\n",
    "\n",
    "print(\"z1 \",z1)\n",
    "print(\"z2 \",z2)\n",
    "print(\"z3 \",z3)"
   ],
   "metadata": {
    "collapsed": false,
    "pycharm": {
     "name": "#%%\n"
    }
   }
  },
  {
   "cell_type": "markdown",
   "source": [],
   "metadata": {
    "collapsed": false,
    "pycharm": {
     "name": "#%% md\n"
    }
   }
  },
  {
   "cell_type": "markdown",
   "source": [
    "## Resizing"
   ],
   "metadata": {
    "collapsed": false,
    "pycharm": {
     "name": "#%% md\n"
    }
   }
  },
  {
   "cell_type": "code",
   "execution_count": 33,
   "outputs": [
    {
     "name": "stdout",
     "output_type": "stream",
     "text": [
      "tensor([1., 2., 3., 4., 5., 6.])\n",
      "Tensor after resize:\n",
      " tensor([[1., 2., 3.],\n",
      "        [4., 5., 6.]])\n",
      "Tensor after resize:\n",
      " tensor([[1., 2., 3.],\n",
      "        [4., 5., 6.]])\n",
      "Tensor after resize:\n",
      " tensor([[1., 2., 3.],\n",
      "        [4., 5., 6.]])\n"
     ]
    }
   ],
   "source": [
    "\n",
    "T = torch.Tensor([1, 2, 3, 4, 5, 6])\n",
    "print(T)\n",
    "\n",
    "# Resize T to 2x3\n",
    "x = T.view(2,3)\n",
    "print(\"Tensor after resize:\\n\",x)\n",
    "\n",
    "# Other way to resize T to 2x3\n",
    "x = T.view(-1,3)\n",
    "print(\"Tensor after resize:\\n\",x)\n",
    "\n",
    "# Other way resize T to 2x3\n",
    "x = T.view(2,-1)\n",
    "print(\"Tensor after resize:\\n\",x)"
   ],
   "metadata": {
    "collapsed": false,
    "pycharm": {
     "name": "#%%\n"
    }
   }
  },
  {
   "cell_type": "markdown",
   "source": [
    "# To numpy\n"
   ],
   "metadata": {
    "collapsed": false,
    "pycharm": {
     "name": "#%% md\n"
    }
   }
  },
  {
   "cell_type": "code",
   "execution_count": 34,
   "outputs": [
    {
     "name": "stdout",
     "output_type": "stream",
     "text": [
      "t: tensor([1., 1., 1., 1., 1.])\n",
      "n: [1. 1. 1. 1. 1.]\n"
     ]
    }
   ],
   "source": [
    "t = torch.ones(5)\n",
    "print(f\"t: {t}\")\n",
    "n = t.numpy()\n",
    "print(f\"n: {n}\")\n"
   ],
   "metadata": {
    "collapsed": false,
    "pycharm": {
     "name": "#%%\n"
    }
   }
  },
  {
   "cell_type": "code",
   "execution_count": 35,
   "outputs": [
    {
     "name": "stdout",
     "output_type": "stream",
     "text": [
      "t: tensor([2., 2., 2., 2., 2.])\n",
      "n: [2. 2. 2. 2. 2.]\n"
     ]
    }
   ],
   "source": [
    "# synchronize\n",
    "\n",
    "t.add_(1)\n",
    "print(f\"t: {t}\")\n",
    "print(f\"n: {n}\")"
   ],
   "metadata": {
    "collapsed": false,
    "pycharm": {
     "name": "#%%\n"
    }
   }
  },
  {
   "cell_type": "code",
   "execution_count": 36,
   "outputs": [],
   "source": [
    "n2 = np.ones(5)\n",
    "t2 = torch.from_numpy(n2)\n"
   ],
   "metadata": {
    "collapsed": false,
    "pycharm": {
     "name": "#%%\n"
    }
   }
  },
  {
   "cell_type": "code",
   "execution_count": 37,
   "outputs": [
    {
     "name": "stdout",
     "output_type": "stream",
     "text": [
      "t: tensor([3., 3., 3., 3., 3.])\n",
      "n: [3. 3. 3. 3. 3.]\n"
     ]
    }
   ],
   "source": [
    "np.add(n, 1, out=n)\n",
    "print(f\"t: {t}\")\n",
    "print(f\"n: {n}\")\n"
   ],
   "metadata": {
    "collapsed": false,
    "pycharm": {
     "name": "#%%\n"
    }
   }
  },
  {
   "cell_type": "code",
   "execution_count": null,
   "outputs": [],
   "source": [],
   "metadata": {
    "collapsed": false,
    "pycharm": {
     "name": "#%%\n"
    }
   }
  }
 ],
 "metadata": {
  "kernelspec": {
   "display_name": "Python 3",
   "language": "python",
   "name": "python3"
  },
  "language_info": {
   "codemirror_mode": {
    "name": "ipython",
    "version": 2
   },
   "file_extension": ".py",
   "mimetype": "text/x-python",
   "name": "python",
   "nbconvert_exporter": "python",
   "pygments_lexer": "ipython2",
   "version": "2.7.6"
  }
 },
 "nbformat": 4,
 "nbformat_minor": 0
}